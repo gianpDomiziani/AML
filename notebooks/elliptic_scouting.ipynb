{
 "cells": [
  {
   "cell_type": "code",
   "execution_count": null,
   "metadata": {
    "colab": {
     "base_uri": "https://localhost:8080/"
    },
    "id": "zLjl5-QY8jZH",
    "outputId": "4447d53b-a042-4a3e-8344-584192523c94"
   },
   "outputs": [],
   "source": [
    "gpu_info = !nvidia-smi\n",
    "gpu_info = '\\n'.join(gpu_info)\n",
    "if gpu_info.find('failed') >= 0:\n",
    "    print('No GPU available')\n",
    "else:\n",
    "    print(gpu_info)"
   ]
  },
  {
   "cell_type": "code",
   "execution_count": null,
   "metadata": {
    "colab": {
     "base_uri": "https://localhost:8080/"
    },
    "id": "ZALFWTt887Wm",
    "outputId": "36be28e6-1308-41a8-82f9-e57fe143b02f"
   },
   "outputs": [],
   "source": [
    "from psutil import virtual_memory\n",
    "ram_gb = virtual_memory().total / 1e9\n",
    "print('Your runtime has {:.1f} gigabytes of available RAM\\n'.format(ram_gb))"
   ]
  },
  {
   "cell_type": "markdown",
   "metadata": {
    "id": "wm_GIIpq-3nI"
   },
   "source": [
    "# Elliptic Exploration"
   ]
  },
  {
   "cell_type": "code",
   "execution_count": 1,
   "metadata": {
    "pycharm": {
     "name": "#%%\n"
    }
   },
   "outputs": [],
   "source": [
    "import os\n",
    "import sys\n",
    "\n",
    "import pathlib\n",
    "\n",
    "import pandas as pd\n",
    "import numpy as np\n",
    "\n",
    "import seaborn as sns\n",
    "import matplotlib.pyplot as plt\n",
    "\n",
    "# supervised baseline\n",
    "from xgboost import XGBClassifier\n",
    "import lightgbm as lgb\n",
    "from sklearn.linear_model import LogisticRegression\n",
    "from sklearn.ensemble import RandomForestClassifier\n",
    "\n",
    "# visualization\n",
    "import scikitplot as skplt\n",
    "\n",
    "\n",
    "# feature/model selection\n",
    "from sklearn.preprocessing import StandardScaler\n",
    "from sklearn.decomposition import PCA\n",
    "from sklearn.feature_selection import SelectKBest, SelectFromModel\n",
    "from sklearn.pipeline import Pipeline, FeatureUnion\n",
    "from sklearn.model_selection import GridSearchCV\n",
    "\n",
    "# evaluation\n",
    "from sklearn.metrics import classification_report\n",
    "from sklearn.metrics import confusion_matrix\n",
    "from sklearn.metrics import precision_recall_curve, average_precision_score, precision_recall_fscore_support\n",
    "\n",
    "import logging\n",
    "logging.basicConfig(stream=sys.stdout, format='',\n",
    "                level=logging.INFO, datefmt=None)\n",
    "logger = logging.getLogger('elliptic_scouting')\n",
    "\n",
    "from IPython.display import display, Markdown, HTML, Image\n",
    "\n",
    "sys.path.append('../')\n",
    "from utils import *\n",
    "from evaluation.model_performance import *"
   ]
  },
  {
   "cell_type": "code",
   "execution_count": 3,
   "metadata": {},
   "outputs": [],
   "source": [
    "import torch"
   ]
  },
  {
   "cell_type": "code",
   "execution_count": null,
   "metadata": {
    "id": "9831B-ohCTSf"
   },
   "outputs": [],
   "source": [
    "df_classes, df_edge, df_features = import_elliptic_data_from_csvs()"
   ]
  },
  {
   "cell_type": "code",
   "execution_count": null,
   "metadata": {
    "colab": {
     "base_uri": "https://localhost:8080/"
    },
    "id": "tLD9D13tmjE5",
    "outputId": "2874ce2d-8f44-4588-a9a9-550c3fa36235"
   },
   "outputs": [],
   "source": [
    "df_classes.info()"
   ]
  },
  {
   "cell_type": "code",
   "execution_count": null,
   "metadata": {
    "colab": {
     "base_uri": "https://localhost:8080/"
    },
    "id": "aOq_e_9mmrVn",
    "outputId": "314ddc00-2adb-4eea-e00b-4316b0c5c079"
   },
   "outputs": [],
   "source": [
    "df_edge.info()"
   ]
  },
  {
   "cell_type": "code",
   "execution_count": null,
   "metadata": {
    "colab": {
     "base_uri": "https://localhost:8080/"
    },
    "id": "6k4y4BAfmucf",
    "outputId": "5ce8cec6-b0ed-4019-fe4f-edfeda11eb53"
   },
   "outputs": [],
   "source": [
    "df_features.info()"
   ]
  },
  {
   "cell_type": "code",
   "execution_count": null,
   "metadata": {
    "colab": {
     "base_uri": "https://localhost:8080/",
     "height": 253
    },
    "id": "7LeWpnpgmw6U",
    "outputId": "6012bf25-5b0c-4ba0-d540-fe4b6f78eb6a"
   },
   "outputs": [],
   "source": [
    "df_features.head()"
   ]
  },
  {
   "cell_type": "code",
   "execution_count": null,
   "metadata": {
    "id": "YU36MEaVmzno"
   },
   "outputs": [],
   "source": [
    "df_features = rename_features(df_features)\n",
    "df_classes = df_classes.replace({'2': 'licit', '1': 'illicit'})"
   ]
  },
  {
   "cell_type": "code",
   "execution_count": null,
   "metadata": {
    "colab": {
     "base_uri": "https://localhost:8080/",
     "height": 296
    },
    "id": "SBIbH3L4m5nT",
    "outputId": "60399e26-9a75-4e4c-9341-67697c0c0da7"
   },
   "outputs": [],
   "source": [
    "sns.countplot(x=df_classes['class'])"
   ]
  },
  {
   "cell_type": "code",
   "execution_count": null,
   "metadata": {
    "colab": {
     "base_uri": "https://localhost:8080/",
     "height": 298
    },
    "id": "vCUBri8Em9rj",
    "outputId": "2a59ca09-a068-4d41-d9c3-7c938ac0f101"
   },
   "outputs": [],
   "source": [
    "df_features['time_step'].value_counts().sort_index().plot()\n",
    "plt.title('Number of transactions (licit/illicit) for timestep')"
   ]
  },
  {
   "cell_type": "code",
   "execution_count": null,
   "metadata": {
    "colab": {
     "base_uri": "https://localhost:8080/",
     "height": 253
    },
    "id": "OlmLKustm_BK",
    "outputId": "cab35362-4951-463b-bc8a-a5b32145f805"
   },
   "outputs": [],
   "source": [
    "df_features_class = pd.merge(df_features, df_classes, left_on='id', right_on='txId', how='left')\n",
    "df_features_class = df_features_class.drop(columns='txId')\n",
    "df_features_class.head()"
   ]
  },
  {
   "cell_type": "code",
   "execution_count": null,
   "metadata": {
    "colab": {
     "base_uri": "https://localhost:8080/",
     "height": 531
    },
    "id": "5bDaur3tnBxE",
    "outputId": "bab7aeff-631a-4741-f467-dec88ef523d7"
   },
   "outputs": [],
   "source": [
    "plt.figure(figsize=(12, 8))\n",
    "grouped = df_features_class.groupby(['time_step', 'class'])['id'].count().reset_index().rename(columns={'id': 'count'})\n",
    "sns.lineplot(x='time_step', y='count', hue='class', data=grouped)\n",
    "plt.legend(loc=(1.0, 0.8))\n",
    "plt.title('Number of transactions in each time step by class')\n",
    "plt.show()"
   ]
  },
  {
   "cell_type": "code",
   "execution_count": null,
   "metadata": {
    "colab": {
     "base_uri": "https://localhost:8080/",
     "height": 514
    },
    "id": "Ryd2CJz_nEfH",
    "outputId": "ee6c6c5c-8daa-4ae2-f932-b954677740ce"
   },
   "outputs": [],
   "source": [
    "plt.figure(figsize=(12, 8))\n",
    "grouped = df_features_class.groupby(['time_step', 'class'])['trans_feat_0'].mean().reset_index().rename(columns={'trans_feat_0': 'mean'})\n",
    "sns.lineplot(x='time_step', y='mean', hue='class', data=grouped);\n",
    "plt.legend(loc=(1.0, 0.8))\n",
    "plt.title('Trans Feat 0 mean for timestep and classes')\n",
    "plt.show()"
   ]
  },
  {
   "cell_type": "code",
   "execution_count": null,
   "metadata": {
    "colab": {
     "base_uri": "https://localhost:8080/"
    },
    "id": "8OHUeHbInJNd",
    "outputId": "0958d51b-94e2-40e8-f0a5-f50eea8cdbff"
   },
   "outputs": [],
   "source": [
    "licit_mask = df_features_class['class'] == 'licit'\n",
    "illicit_mask = df_features_class['class'] == 'illicit'\n",
    "mask_known = licit_mask | illicit_mask\n",
    "mask_known.sum()"
   ]
  },
  {
   "cell_type": "code",
   "execution_count": null,
   "metadata": {
    "colab": {
     "base_uri": "https://localhost:8080/",
     "height": 253
    },
    "id": "A2_ivMM2nKHJ",
    "outputId": "a425fe99-9c49-40ba-a5d0-15664026c8f2"
   },
   "outputs": [],
   "source": [
    "df_known = df_features_class[mask_known].copy()\n",
    "df_known = df_known.replace({'licit': 0, 'illicit': 1})\n",
    "df_known.head()"
   ]
  },
  {
   "cell_type": "code",
   "execution_count": null,
   "metadata": {
    "colab": {
     "base_uri": "https://localhost:8080/",
     "height": 296
    },
    "id": "H60-jeZvnKOM",
    "outputId": "624b1d5d-e18b-4218-c63a-f2161d5e961c"
   },
   "outputs": [],
   "source": [
    "g = df_known.groupby(['time_step', 'class'])['agg_feat_2'].mean().reset_index().rename(columns={'agg_feat_2': 'mean'})\n",
    "sns.lineplot(x='time_step', y='mean', hue='class', data=g)\n",
    "plt.legend(loc=(1.0, 0.8))\n",
    "plt.title('agg_feat_2 for licit/illicit classes')\n",
    "plt.show()"
   ]
  },
  {
   "cell_type": "markdown",
   "metadata": {
    "id": "bNCOKL0KnZD2"
   },
   "source": [
    "### Features selection"
   ]
  },
  {
   "cell_type": "code",
   "execution_count": null,
   "metadata": {
    "id": "V56nevhSnKTd"
   },
   "outputs": [],
   "source": [
    "last_time_step = 49\n",
    "last_train_time_step = 34\n",
    "only_labeled = True\n",
    "\n",
    "X_train_df, X_test_df, y_train, y_test = run_elliptic_preprocessing_pipeline(last_train_time_step=last_train_time_step,\n",
    "                                                                             last_time_step=last_time_step,\n",
    "                                                                             only_labeled=only_labeled)"
   ]
  },
  {
   "cell_type": "code",
   "execution_count": null,
   "metadata": {
    "id": "ZJfnzDkanKY7"
   },
   "outputs": [],
   "source": [
    "scaler = StandardScaler()\n",
    "X_train_sc = scaler.fit_transform(X_train_df.values)\n",
    "pca = PCA(n_components=166, whiten=True, random_state=0)"
   ]
  },
  {
   "cell_type": "code",
   "execution_count": null,
   "metadata": {
    "colab": {
     "base_uri": "https://localhost:8080/"
    },
    "id": "iAfOeALTnKfb",
    "outputId": "8e8b40e5-e02c-4d06-fd2c-298bf8078b19"
   },
   "outputs": [],
   "source": [
    "pca.fit(X_train_sc)\n",
    "var = np.cumsum(np.round(pca.explained_variance_ratio_, decimals=3)*100)\n",
    "var  # cumulative sum of variance explained with [n] features"
   ]
  },
  {
   "cell_type": "code",
   "execution_count": null,
   "metadata": {
    "colab": {
     "base_uri": "https://localhost:8080/",
     "height": 312
    },
    "id": "93xUuLn4nooO",
    "outputId": "ce5ee212-eb13-452d-9017-c91fa98f6836"
   },
   "outputs": [],
   "source": [
    "plt.ylabel('% Variance Explained')\n",
    "plt.xlabel('# of Features')\n",
    "plt.title('PCA Analysis')\n",
    "plt.ylim(30,100.5)\n",
    "plt.style.context('seaborn-whitegrid')\n",
    "plt.plot(var)"
   ]
  },
  {
   "cell_type": "code",
   "execution_count": null,
   "metadata": {
    "id": "hesIxb5SCzGR"
   },
   "outputs": [],
   "source": [
    "import random \n",
    "\n",
    "def supervised_model_cv_fit_predict(X_train_df, y_train, X_test_df, model, runs=5):\n",
    "  y_preds = []\n",
    "  for i in range(runs):\n",
    "    model.fit(X_train_df, y_train)\n",
    "    y_pred = model.predict(X_test_df)\n",
    "    y_preds.append(y_pred)\n",
    "  return y_preds\n",
    "  \n",
    "  \n",
    "def plot_precision_recall_roc(y_test, y_probs):\n",
    "    \n",
    "    scores = {'avg_precision': [], 'best_f1': []}\n",
    "    for y_prob in y_probs:\n",
    "      precision, recall, thresholds = precision_recall_curve(y_test, y_prob)\n",
    "      f1_scores = 2*recall*precision/(recall+precision)\n",
    "      #TODO: by removing nan f1-scores thresholds indexes are no more aligned\n",
    "      f1_scores = f1_scores[~np.isnan(f1_scores)]\n",
    "    \n",
    "      best_threshold = thresholds[np.argmax(f1_scores)]\n",
    "      display(Markdown(f'Best threshold: {best_threshold:.3f}'))\n",
    "      best_f1_score = np.max(f1_scores)\n",
    "      scores['best_f1'].append(best_f1_score)\n",
    "      display(Markdown(f'Best F1-Score: {best_f1_score:.3f}'))\n",
    "\n",
    "      average_precision = average_precision_score(y_test, y_prob)\n",
    "      scores['avg_precision'].append(average_precision)\n",
    "      display(Markdown(f'Average precision: {average_precision:.3f}'))\n",
    "      display(Markdown(f'Percentage of true labels: {y_test.sum()/len(y_test):.3f}'))\n",
    "\n",
    "      probas = np.column_stack((1 - y_prob, y_prob))\n",
    "      skplt.metrics.plot_precision_recall(y_test, probas)\n",
    "      plt.show()\n",
    "      skplt.metrics.plot_roc(y_test, probas)\n",
    "      plt.show()\n",
    "    \n",
    "    avg_precision = np.mean([score for score in scores['avg_precision']])\n",
    "    avg_best_f1 = np.mean([score for score in scores['best_f1']])\n",
    "    return avg_precision, avg_best_f1\n",
    "\n",
    "def plot_confusion_matrix(y_true, y_preds, title=None, xtickslabels=None, ytickslabels=None):\n",
    "\n",
    "    for y_pred in y_preds:\n",
    "      precision, recall, f1score, support = precision_recall_fscore_support(y_true, y_pred)\n",
    "      display(Markdown(f'Precision {precision}, recall {recall}, f1score {f1score}, support {support}'))    \n",
    "    \n",
    "      ax = skplt.metrics.plot_confusion_matrix(\n",
    "          y_true,\n",
    "          y_pred,\n",
    "          normalize=True,\n",
    "          figsize=(10, 8),\n",
    "          title=title\n",
    "         )\n",
    "    \n",
    "      if xtickslabels is not None:\n",
    "        ax.set_xticklabels(xtickslabels)\n",
    "\n",
    "      if ytickslabels is not None:\n",
    "        ax.set_yticklabels(ytickslabels)\n",
    "        \n",
    "      plt.show()"
   ]
  },
  {
   "cell_type": "markdown",
   "metadata": {
    "id": "VBQI_LSrP_e6"
   },
   "source": [
    "## Supervision models"
   ]
  },
  {
   "cell_type": "code",
   "execution_count": null,
   "metadata": {
    "id": "UTUurB5EP9Zk"
   },
   "outputs": [],
   "source": [
    "X_train = X_train_df.values\n",
    "X_test = X_test_df.values"
   ]
  },
  {
   "cell_type": "code",
   "execution_count": null,
   "metadata": {
    "colab": {
     "base_uri": "https://localhost:8080/"
    },
    "id": "qNDqLdRwQKXK",
    "outputId": "89571901-ad3b-459e-a72d-104e9c746761"
   },
   "outputs": [],
   "source": [
    "y_test.value_counts(dropna=False)"
   ]
  },
  {
   "cell_type": "code",
   "execution_count": null,
   "metadata": {
    "colab": {
     "base_uri": "https://localhost:8080/",
     "height": 296
    },
    "id": "tKSPHEz8QNJd",
    "outputId": "a5bde29c-60c1-4b5f-a285-fbee65431eed"
   },
   "outputs": [],
   "source": [
    "sns.countplot(x=y_test)"
   ]
  },
  {
   "cell_type": "markdown",
   "metadata": {
    "id": "ZcRpFqImP3Js"
   },
   "source": [
    "### Logistic Regression"
   ]
  },
  {
   "cell_type": "code",
   "execution_count": null,
   "metadata": {
    "id": "RzoUGIOcP69U"
   },
   "outputs": [],
   "source": [
    "y_preds_lr = supervised_model_cv_fit_predict(X_train, y_train, X_test, LogisticRegression(max_iter=10000))"
   ]
  },
  {
   "cell_type": "code",
   "execution_count": null,
   "metadata": {
    "colab": {
     "base_uri": "https://localhost:8080/",
     "height": 1000
    },
    "id": "Kc6Vbn1-QoZf",
    "outputId": "80e6e31c-46b4-4ea1-f010-b6e6af7976cc"
   },
   "outputs": [],
   "source": [
    "display(Markdown('LR classifier'))\n",
    "plot_precision_recall_roc(y_test, y_preds_lr)"
   ]
  },
  {
   "cell_type": "code",
   "execution_count": null,
   "metadata": {
    "colab": {
     "base_uri": "https://localhost:8080/",
     "height": 1000
    },
    "id": "2aPuVyCsQojE",
    "outputId": "77a1e91b-561f-4eca-d805-ce31ae8b9b2b"
   },
   "outputs": [],
   "source": [
    "plot_confusion_matrix(y_test, y_preds_lr, title='LR')"
   ]
  },
  {
   "cell_type": "markdown",
   "metadata": {
    "id": "d28n3sqbn3yh"
   },
   "source": [
    "### XGBoost"
   ]
  },
  {
   "cell_type": "code",
   "execution_count": null,
   "metadata": {
    "id": "THi4OEPMdU34"
   },
   "outputs": [],
   "source": [
    "y_preds_xgboost = supervised_model_cv_fit_predict(X_train, y_train, X_test, XGBClassifier())"
   ]
  },
  {
   "cell_type": "code",
   "execution_count": null,
   "metadata": {
    "colab": {
     "base_uri": "https://localhost:8080/",
     "height": 1000
    },
    "id": "F9RKeoXooSK6",
    "outputId": "f6b39ad4-672e-4212-bea3-203f1dafd1f4"
   },
   "outputs": [],
   "source": [
    "display(Markdown('XGB classifier'))\n",
    "plot_precision_recall_roc(y_test, y_preds_xgboost)"
   ]
  },
  {
   "cell_type": "code",
   "execution_count": null,
   "metadata": {
    "colab": {
     "base_uri": "https://localhost:8080/",
     "height": 1000
    },
    "id": "hrIPC63coSR5",
    "outputId": "2eb7fd2a-7a43-44d7-dbb0-c3608784d95f"
   },
   "outputs": [],
   "source": [
    "plot_confusion_matrix(y_test, y_preds_xgboost, title='XGBoost')"
   ]
  },
  {
   "cell_type": "markdown",
   "metadata": {
    "id": "NSz4Tf9Xo03u"
   },
   "source": [
    "### Random Forest"
   ]
  },
  {
   "cell_type": "code",
   "execution_count": null,
   "metadata": {
    "id": "LBa_LhPRpEP7"
   },
   "outputs": [],
   "source": [
    "y_preds_rf = supervised_model_cv_fit_predict(X_train, y_train, X_test, RandomForestClassifier())"
   ]
  },
  {
   "cell_type": "code",
   "execution_count": null,
   "metadata": {
    "colab": {
     "base_uri": "https://localhost:8080/",
     "height": 1000
    },
    "id": "1YCVtwfIpRe0",
    "outputId": "e2701b46-b192-472e-a8dd-e5089e6c3678"
   },
   "outputs": [],
   "source": [
    "display('RF classifier')\n",
    "plot_precision_recall_roc(y_test, y_preds_rf)"
   ]
  },
  {
   "cell_type": "code",
   "execution_count": null,
   "metadata": {
    "colab": {
     "base_uri": "https://localhost:8080/",
     "height": 1000
    },
    "id": "15cI-_ddpRtx",
    "outputId": "6f6314b4-5315-4b00-f36a-c60fbda519bf"
   },
   "outputs": [],
   "source": [
    "plot_confusion_matrix(y_test, y_preds_rf, title='RF')"
   ]
  },
  {
   "cell_type": "markdown",
   "metadata": {
    "id": "QRRa5ntkD8el"
   },
   "source": [
    "### LightGBM"
   ]
  },
  {
   "cell_type": "code",
   "execution_count": null,
   "metadata": {
    "id": "2jwyFKmsEDKo"
   },
   "outputs": [],
   "source": [
    "from sklearn.utils.class_weight import compute_class_weight\n",
    "from multiprocessing import cpu_count\n",
    "\n",
    "n_cpu = cpu_count()\n",
    "\n",
    "params = {\n",
    "      'nthread': n_cpu,\n",
    "      'objective': 'binary',\n",
    "      'metric': 'cross-entropy',\n",
    "      'learning_rate': 0.05,\n",
    "      'num_leaves': 63,\n",
    "      'min_data_in_leaf': 10,\n",
    "      'feature_fraction': 0.8,\n",
    "      'bagging_fraction': 0.8,\n",
    "      'bagging_freq': 5,\n",
    "      'reg_alpha': 1,\n",
    "      'reg_lambda': 1,\n",
    "      'verbose': 1,\n",
    "      'verbose_eval': True,\n",
    "    }\n",
    "\n",
    "def train_model(X, y, weight, parameters, num_boost):\n",
    "    logger.info(f'Training model: weight {weight}')\n",
    "    logger.info(f'parameters {parameters}, num_boost {num_boost}')\n",
    "    \n",
    "    train_data = lgb.Dataset(X, label=y, weight=weight)\n",
    "    model = lgb.train(parameters, train_data, num_boost_round=num_boost)\n",
    "    logger.info(f'model trained: ')\n",
    "    return model\n",
    "  \n",
    "def get_balanced_weights(labels):\n",
    "    class_weight = compute_class_weight('balanced', classes=np.unique(labels), y=labels)\n",
    "    weights = labels.map(lambda x: class_weight[0] if x == False else class_weight[1])\n",
    "    return weights"
   ]
  },
  {
   "cell_type": "code",
   "execution_count": null,
   "metadata": {
    "colab": {
     "base_uri": "https://localhost:8080/"
    },
    "id": "83WaeLofG6NV",
    "outputId": "42bad580-4358-4946-ed65-915831e2d26c"
   },
   "outputs": [],
   "source": [
    "model = train_model(X_train, y_train, get_balanced_weights(y_train), params, 5)"
   ]
  },
  {
   "cell_type": "code",
   "execution_count": null,
   "metadata": {
    "colab": {
     "base_uri": "https://localhost:8080/",
     "height": 1000
    },
    "id": "uXsHAVV8KDDc",
    "outputId": "c61968b2-f924-488e-d804-0ca166fecd56"
   },
   "outputs": [],
   "source": [
    "SPLIT_WEIGHT = 0.6\n",
    "\n",
    "importance_split = model.feature_importance(importance_type='split')\n",
    "importance_gain = model.feature_importance(importance_type='gain')\n",
    "\n",
    "importance = SPLIT_WEIGHT * importance_split / importance_split.sum() + \\\n",
    "             (1 - SPLIT_WEIGHT) * importance_gain / importance_gain.sum()\n",
    "\n",
    "importance = pd.Series((100 * importance).round(decimals=1), index=model.feature_name())\n",
    "importance = importance[importance > 0].dropna()\n",
    "\n",
    "\n",
    "with sns.axes_style('dark'):\n",
    "    sns.set(font_scale=1.1)\n",
    "    ax = importance.plot.barh(figsize=(10, 35), title='Feature Importance');\n",
    "\n",
    "    for p in ax.patches:\n",
    "        width = p.get_width()\n",
    "        _ = ax.text(width, p.get_y(), f'{width}%')"
   ]
  },
  {
   "cell_type": "code",
   "execution_count": null,
   "metadata": {
    "id": "YBBt-Q88KaK9"
   },
   "outputs": [],
   "source": [
    "lgb_clf = lgb.sklearn.LGBMClassifier(n_jobs=n_cpu)\n",
    "y_preds_lgb = supervised_model_cv_fit_predict(X_train_df, y_train, X_test, lgb_clf)"
   ]
  },
  {
   "cell_type": "markdown",
   "metadata": {
    "id": "eFT9xeroEstb"
   },
   "source": [
    "## Show aggregate results for timestemp"
   ]
  },
  {
   "cell_type": "code",
   "execution_count": null,
   "metadata": {},
   "outputs": [],
   "source": [
    "def calc_avg_score_and_std_per_timestep(X_test_df, y_test, y_preds, aggregated_timestamp_column='time_step', scoring= 'f1'):\n",
    "    last_train_time_step = min(X_test_df['time_step']) - 1\n",
    "    last_time_step = max(X_test_df['time_step'])\n",
    "    all_model_scores = []\n",
    "    for y_pred in y_preds:\n",
    "        model_scores = []\n",
    "        for time_step in range(last_train_time_step + 1, last_time_step + 1):\n",
    "            time_step_idx = np.flatnonzero(X_test_df[aggregated_timestamp_column] == time_step)\n",
    "            y_true_ts = y_test.iloc[time_step_idx]\n",
    "            y_pred_ts = [y_pred[i] for i in time_step_idx]\n",
    "            model_scores.append(calculate_model_score(y_true_ts.astype('int'), y_pred_ts, scoring))\n",
    "        all_model_scores.append(model_scores)\n",
    "\n",
    "    avg_f1 = np.array([np.mean([f1_scores[i] for f1_scores in all_model_scores]) for i in range(15)])\n",
    "    std = np.array([np.std([f1_scores[i] for f1_scores in all_model_scores]) for i in range(15)])\n",
    "\n",
    "    return avg_f1, "
   ]
  },
  {
   "cell_type": "code",
   "execution_count": null,
   "metadata": {
    "id": "WxX3WiDuNyh4"
   },
   "outputs": [],
   "source": [
    "avg_f1_lr_ts = calc_avg_score_and_std_per_timestep(X_test_df, y_test, y_preds_lr)\n",
    "avg_f1_rf_ts  = calc_avg_score_and_std_per_timestep(X_test_df, y_test, y_preds_rf)\n",
    "avg_f1_xgboost = calc_avg_score_and_std_per_timestep(X_test_df, y_test, y_preds_xgboost)\n",
    "avg_f1_lgb_ts = calc_avg_score_and_std_per_timestep(X_test_df, y_test, y_preds_lgb)\n",
    "model_f1_ts_dict = {'LR': avg_f1_lr_ts,\n",
    "                    'XGB': avg_f1_xgboost, \n",
    "                    'Random Forest': avg_f1_rf_ts, \n",
    "                    'LightGBM': avg_f1_lgb_ts}"
   ]
  },
  {
   "cell_type": "code",
   "execution_count": null,
   "metadata": {},
   "outputs": [],
   "source": [
    "from evaluation import plot_evaluation as pe\n",
    "import importlib\n",
    "importlib.reload(pe)"
   ]
  },
  {
   "cell_type": "code",
   "execution_count": null,
   "metadata": {
    "colab": {
     "base_uri": "https://localhost:8080/",
     "height": 626
    },
    "id": "B_QMQ3-XNysp",
    "outputId": "61d66642-050e-4d8a-be39-b45d1432ffdf"
   },
   "outputs": [],
   "source": [
    "plt.style.use('grayscale')\n",
    "pe.plot_performance_per_timestep(model_metric_dict=model_f1_ts_dict, last_train_time_step=last_train_time_step,\n",
    "                              last_time_step=last_time_step, linewidth=1.5, figsize=(10, 10), labelsize=20, fontsize=22,\n",
    "                              markers=['P', '^', 'o', 's'],\n",
    "                              linestyles=['-', ':', 'dashed', 'dashdot'],\n",
    "                              linecolor=['pink', 'orange', 'firebrick', 'forestgreen'],\n",
    "                              barcolor='royalblue', baralpha=0.3)"
   ]
  },
  {
   "cell_type": "code",
   "execution_count": null,
   "metadata": {},
   "outputs": [],
   "source": []
  }
 ],
 "metadata": {
  "colab": {
   "collapsed_sections": [],
   "name": "elliptic_scouting.ipynb",
   "provenance": [],
   "toc_visible": true
  },
  "kernelspec": {
   "display_name": "Python 3",
   "language": "python",
   "name": "python3"
  },
  "language_info": {
   "codemirror_mode": {
    "name": "ipython",
    "version": 3
   },
   "file_extension": ".py",
   "mimetype": "text/x-python",
   "name": "python",
   "nbconvert_exporter": "python",
   "pygments_lexer": "ipython3",
   "version": "3.7.4"
  }
 },
 "nbformat": 4,
 "nbformat_minor": 1
}
