{
 "cells": [
  {
   "cell_type": "markdown",
   "metadata": {},
   "source": [
    "# Dynamic Convolutional Neural Network for sequential data"
   ]
  },
  {
   "cell_type": "code",
   "execution_count": null,
   "metadata": {},
   "outputs": [],
   "source": [
    "import os\n",
    "import sys\n",
    "from pathlib import Path \n",
    "\n",
    "import numpy as np\n",
    "\n",
    "import torch\n",
    "from torch import nn\n",
    "\n",
    "from torchsummary import summary\n",
    "\n"
   ]
  },
  {
   "cell_type": "code",
   "execution_count": null,
   "metadata": {},
   "outputs": [],
   "source": [
    "#model \n",
    "KTOP = 2\n",
    "\n",
    "def get_dmaxp(d, in_size, tot_L):\n",
    "    m = (tot_L - in_size) * d // tot_L\n",
    "    return max(KTOP, m)\n",
    "\n",
    "def conv1dOShape(l_in, k, s=2, p=0):\n",
    "    return (l_in - k + 2*p) // s + 1\n",
    "\n",
    "class DCNN(nn.Module):\n",
    "\n",
    "    def __init__(self, d, tot_l=2, wide=False):\n",
    "        super(DCNN, self).__init__()\n",
    "        self._d = d\n",
    "        self._k = self._d + 3 if wide else 3 # input size s^{m x d} d number of features\n",
    "        self._tot_l = tot_l\n",
    "        \n",
    "        self.model = nn.Sequential(\n",
    "            nn.Conv1d(1, 5, self._k, stride=2),\n",
    "            nn.LeakyReLU(),\n",
    "            nn.MaxPool1d(get_dmaxp(d, conv1dOShape(self._d, self._k), self._tot_l)),\n",
    "            nn.Conv1d(5, 3, 3, stride=2),\n",
    "            nn.LeakyReLU(),\n",
    "            nn.MaxPool1d(get_dmaxp(d, conv1dOShape(conv1dOShape(self._d, self._k), 3), self._tot_l)),\n",
    "            nn.Flatten(0),\n",
    "            nn.Linear(3, 2),\n",
    "            nn.LeakyReLU(),\n",
    "            nn.Softmax(dim=0)\n",
    "            )\n",
    "        \n",
    "    def forward(self, x):\n",
    "        return self.model(x)\n",
    "    "
   ]
  },
  {
   "cell_type": "code",
   "execution_count": null,
   "metadata": {},
   "outputs": [],
   "source": [
    "d = 24\n",
    "x = torch.randn(1, d)\n",
    "net = DCNN(d)\n",
    "# summary(net, x.shape)"
   ]
  },
  {
   "cell_type": "code",
   "execution_count": null,
   "metadata": {},
   "outputs": [],
   "source": [
    "conv1 = nn.Conv1d(1, 5, 3, stride=2)\n",
    "maxp1 = nn.MaxPool1d(get_dmaxp(d, conv1dOShape(d, 3), 2))\n",
    "conv2 = nn.Conv1d(5, 3, 3, stride=2)\n",
    "maxp2 = nn.MaxPool1d(get_dmaxp(d, conv1dOShape(conv1dOShape(d, 3), 3), 2))\n",
    "fl = nn.Flatten(0)\n",
    "ln = nn.Linear(3, 2)\n",
    "sm = nn.Softmax(dim=0)\n",
    "\n",
    "x1 = conv1(x)\n",
    "x2 = maxp1(x1)\n",
    "x3 = conv2(x2)\n",
    "x4 = maxp2(x3)\n",
    "x5 = fl(x4)\n",
    "x6 = ln(x5)\n",
    "out = sm(x6)\n",
    "out"
   ]
  },
  {
   "cell_type": "code",
   "execution_count": null,
   "metadata": {},
   "outputs": [],
   "source": [
    "x.shape, x1.shape, x2.shape, x3.shape, x4.shape, x5.shape, out.shape"
   ]
  }
 ],
 "metadata": {
  "interpreter": {
   "hash": "ac9f23b16c7e65327bfbfb11aff8e700df5fb40263e5264f605c5c0a67194634"
  },
  "kernelspec": {
   "display_name": "Python 3.7.4 ('venv': venv)",
   "language": "python",
   "name": "python3"
  },
  "language_info": {
   "codemirror_mode": {
    "name": "ipython",
    "version": 3
   },
   "file_extension": ".py",
   "mimetype": "text/x-python",
   "name": "python",
   "nbconvert_exporter": "python",
   "pygments_lexer": "ipython3",
   "version": "3.7.4"
  },
  "orig_nbformat": 4
 },
 "nbformat": 4,
 "nbformat_minor": 2
}
